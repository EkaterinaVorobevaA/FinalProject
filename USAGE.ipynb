{
 "cells": [
  {
   "cell_type": "markdown",
   "id": "ea3ad20a",
   "metadata": {},
   "source": [
    "How to Run and Use the Menu\n",
    "\n",
    "1. Launch the Program\n",
    "\n",
    "– Execute the cell that reads trips.csv and calls main_menu(trips, user). After a brief pause, you will see:"
   ]
  },
  {
   "cell_type": "code",
   "execution_count": null,
   "id": "1dd03b47",
   "metadata": {
    "vscode": {
     "languageId": "plaintext"
    }
   },
   "outputs": [],
   "source": [
    "=== Travel Planner Menu ===\n",
    "1. Sort by budget + logic (loop)\n",
    "2. Sort by duration + logic (recursion)\n",
    "3. Search trip by city name\n",
    "4. Save last sorted trips to CSV\n",
    "5. Compare performance of sorting algorithms\n",
    "6. Exit\n",
    "\n",
    "Enter your choice (1-6):"
   ]
  },
  {
   "cell_type": "markdown",
   "id": "c953ba52",
   "metadata": {},
   "source": [
    "2. Choose an Option (1–6)\n",
    "\n",
    "– Type a number from 1 to 6, then press Enter.\n",
    "\n",
    "– If you type anything outside that range (or a non-numeric character), you’ll see an error message and then be prompted to choose again.\n",
    "\n",
    "3. Option 1 or 2: Sorting\n",
    "\n",
    "– After you press Enter, the program immediately prints the sorted list of trips.\n",
    "\n",
    "– Important: As soon as the sorted trips appear, the program will pause and display:"
   ]
  },
  {
   "cell_type": "code",
   "execution_count": null,
   "id": "fb99ccaf",
   "metadata": {
    "vscode": {
     "languageId": "plaintext"
    }
   },
   "outputs": [],
   "source": [
    "(Press Enter to return to menu…)"
   ]
  },
  {
   "cell_type": "markdown",
   "id": "ccc4ddf7",
   "metadata": {},
   "source": [
    "– You must press Enter one more time to clear the screen and return to the main menu.\n",
    "\n",
    "– Only after you press Enter will the menu re-appear, ready for your next choice.\n",
    "\n",
    "4. Option 3: Search by City Name\n",
    "\n",
    "– After pressing Enter on “3,” you see:"
   ]
  },
  {
   "cell_type": "code",
   "execution_count": null,
   "id": "7c322016",
   "metadata": {
    "vscode": {
     "languageId": "plaintext"
    }
   },
   "outputs": [],
   "source": [
    "Enter city name to search (or 'back' to return):"
   ]
  },
  {
   "cell_type": "markdown",
   "id": "f72038f5",
   "metadata": {},
   "source": [
    "– Type the city name (for example, Rome) and press Enter.\n",
    "\n",
    "– If a match is found, the trip(s) will display, followed by:\n",
    "(Press Enter to continue searching…)\n",
    "\n",
    "– Press Enter again to clear the results and get prompted to enter another city or type back to go back.\n",
    "\n",
    "– If you type back (and press Enter), the menu immediately re-appears.\n",
    "\n",
    "5. Option 4: Save to CSV\n",
    "– After pressing Enter on “4,” the program will either save the most recently sorted list to sorted_trips.csv or warn that no list is ready.\n",
    "\n",
    "– It then pauses with:"
   ]
  },
  {
   "cell_type": "code",
   "execution_count": null,
   "id": "72b7baff",
   "metadata": {
    "vscode": {
     "languageId": "plaintext"
    }
   },
   "outputs": [],
   "source": [
    "(Press Enter to return to menu…)"
   ]
  },
  {
   "cell_type": "markdown",
   "id": "501d1277",
   "metadata": {},
   "source": [
    "– Press Enter to clear that message and see the menu again.\n",
    "\n",
    "6. Option 5: Performance Comparison\n",
    "\n",
    "– Press Enter on “5,” and you’ll see timing results for both the loop-based and recursion-based sorts (e.g., 0.000123 seconds). A bar chart will also pop up.\n",
    "\n",
    "– After viewing, the program prints:"
   ]
  },
  {
   "cell_type": "code",
   "execution_count": null,
   "id": "6cf691f6",
   "metadata": {
    "vscode": {
     "languageId": "plaintext"
    }
   },
   "outputs": [],
   "source": [
    "(Press Enter to return to menu…)"
   ]
  },
  {
   "cell_type": "markdown",
   "id": "1ffe5478",
   "metadata": {},
   "source": [
    "– Press Enter to clear the chart/output and bring the menu back.\n",
    "\n",
    "7. Option 6: Exit\n",
    "\n",
    "– Press Enter on “6.” The program prints “Goodbye!” and then stops. No further input is required."
   ]
  }
 ],
 "metadata": {
  "language_info": {
   "name": "python"
  }
 },
 "nbformat": 4,
 "nbformat_minor": 5
}
