{
 "cells": [
  {
   "cell_type": "markdown",
   "metadata": {},
   "source": [
    "🔧 Step 1: Class Design (OOP Structure)\n",
    "\n",
    "We'll start with 4 core classes, which satisfy OOP, inheritance, abstraction, and polymorphism requirements.\n",
    "\n",
    "🔹 Route (Base Class)\n",
    "Holds basic route details."
   ]
  },
  {
   "cell_type": "code",
   "execution_count": 1,
   "metadata": {},
   "outputs": [],
   "source": [
    "class Route:\n",
    "    def __init__(self, route_id, distance, duration, cost, expression, variables):\n",
    "        self.route_id = route_id\n",
    "        self.distance = distance  # in km\n",
    "        self.duration = duration  # in minutes\n",
    "        self.cost = cost          # in currency\n",
    "        self.expression = expression  # logical expression (e.g. \"p and not q\")\n",
    "        self.variables = variables    # dictionary of {'p': True, 'q': False}\n",
    "\n",
    "    def evaluate_expression(self):\n",
    "        try:\n",
    "            return eval(self.expression, {}, self.variables)\n",
    "        except Exception as e:\n",
    "            print(f\"Error evaluating expression for Route {self.route_id}: {e}\")\n",
    "            return False"
   ]
  },
  {
   "cell_type": "markdown",
   "metadata": {},
   "source": [
    "🔹 ScenicRoute (Subclass of Route)\n",
    "Demonstrates inheritance and adds a new property."
   ]
  },
  {
   "cell_type": "code",
   "execution_count": 3,
   "metadata": {},
   "outputs": [],
   "source": [
    "class ScenicRoute(Route):\n",
    "    def __init__(self, route_id, distance, duration, cost, expression, variables, has_scenic_view):\n",
    "        super().__init__(route_id, distance, duration, cost, expression, variables)\n",
    "        self.has_scenic_view = has_scenic_view"
   ]
  }
 ],
 "metadata": {
  "kernelspec": {
   "display_name": "Python 3",
   "language": "python",
   "name": "python3"
  },
  "language_info": {
   "codemirror_mode": {
    "name": "ipython",
    "version": 3
   },
   "file_extension": ".py",
   "mimetype": "text/x-python",
   "name": "python",
   "nbconvert_exporter": "python",
   "pygments_lexer": "ipython3",
   "version": "3.12.4"
  }
 },
 "nbformat": 4,
 "nbformat_minor": 2
}
