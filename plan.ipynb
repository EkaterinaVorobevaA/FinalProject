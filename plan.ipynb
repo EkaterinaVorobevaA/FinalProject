{
 "cells": [
  {
   "cell_type": "markdown",
   "metadata": {},
   "source": [
    "🎯 Project Overview\n",
    "\n",
    "I'm building a console-based application that:\n",
    "\n",
    "Works with complex data objects.\n",
    "\n",
    "Implements sorting algorithms (loop-based and recursive).\n",
    "\n",
    "Uses truth tables and logical expressions to influence sorting.\n",
    "\n",
    "Applies OOP principles (abstraction, inheritance, polymorphism).\n",
    "\n",
    "Includes performance analysis and data handling (CSV, Pandas).\n",
    "\n"
   ]
  },
  {
   "cell_type": "markdown",
   "metadata": {},
   "source": [
    "🧳 Travel Planner as a Project Idea\n",
    "\n",
    "\n",
    "It's possible to build a Travel Route Planning System with the required logic and data complexity.\n",
    "\n",
    "\n",
    "🔹 Dataset\n",
    "Each \"route\" or \"trip plan\" could be an object with:\n",
    "Numerical data: distance, duration, cost.\n",
    "Logical data: preferences like (hasScenicView ∧ lowTraffic) → recommended, or (isRainy ∧ longDistance) → notRecommended.\n",
    "\n",
    "🔹 Sorting Algorithms\n",
    "Sort travel routes by:\n",
    "Primary: duration or cost.\n",
    "Secondary: logical evaluation of route conditions (truth table of expressions).\n",
    "Use:\n",
    "Insertion Sort (loop-based).\n",
    "Merge Sort (recursive).\n",
    "\n",
    "🔹 Search Algorithm\n",
    "Implement a search like:\n",
    "Find routes matching specific conditions using logic: e.g., all routes where ¬(highCost ∨ badWeather).\n",
    "\n",
    "🔹 Performance Analysis\n",
    "Compare:\n",
    "Loop vs. recursion.\n",
    "Sorting with and without logical evaluation.\n",
    "Dataset sizes and expression complexity.\n",
    "\n",
    "🔹 OOP Structure (min 4 classes)\n",
    "Route (base class): with attributes like cost, duration, and logic expression.\n",
    "ScenicRoute, ExpressRoute: subclasses using inheritance.\n",
    "RouteManager: manages input, sorting, and searching.\n",
    "PerformanceAnalyzer: benchmarks algorithms.\n",
    "\n",
    "🔹 Inputs & Data\n",
    "Load routes from CSVs.\n",
    "Allow users to choose algorithm, sort key, and display results.\n",
    "Write sorted output back to CSV."
   ]
  },
  {
   "cell_type": "markdown",
   "metadata": {},
   "source": [
    "✅ How It Hits the Mark\n",
    "\n",
    "Requirement\t                            Met with Travel Planner\n",
    "\n",
    "OOP (4 classes)\t                               ✅ Route, Manager, etc.\n",
    "\n",
    "Inheritance\t                            ✅ ScenicRoute inherits Route\n",
    "\n",
    "Sorting (loop + recursion)\t            ✅ Insertion + Merge Sort\n",
    "\n",
    "Truth table use\t                        ✅ Logical expressions like p ∧ ¬q\n",
    "\n",
    "Search algorithm\t                    ✅ Filter routes by logic\n",
    "\n",
    "Performance analysis\t                ✅ Time comparison with/without logic\n",
    "\n",
    "Data types\t                            ✅ String, int, float, bool, list, dict\n",
    "\n",
    "CSV handling\t                        ✅ Load and save travel plans\n",
    "\n",
    "User input\t                            ✅ Console prompts\n",
    "\n",
    "Error handling\t                        ✅ For expression parsing or file issues\n",
    "\n",
    "Innovation\t                            ✅ Logic-based route ranking"
   ]
  }
 ],
 "metadata": {
  "language_info": {
   "name": "python"
  }
 },
 "nbformat": 4,
 "nbformat_minor": 2
}
