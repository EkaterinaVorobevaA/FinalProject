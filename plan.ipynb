{
 "cells": [
  {
   "cell_type": "markdown",
   "metadata": {},
   "source": [
    "# ✈️ Travel Planner – Intelligent Trip Organizer\n",
    "\n",
    "## 📌 Overview\n",
    "**Travel Planner** is a Python-based console application designed to help users organize and sort travel plans based on personal preferences and logical conditions.\n",
    "\n",
    "This project demonstrates the use of object-oriented programming, recursive and loop-based sorting algorithms, and logic evaluation using truth tables — all in a clean, user-friendly, menu-driven interface.\n",
    "\n",
    "---\n",
    "\n",
    "## 🎯 Features\n",
    "- ✅ Interactive command-line menu\n",
    "- 🔁 Insertion Sort (loop-based) — sort by budget\n",
    "- 🔂 Merge Sort (recursion-based) — sort by duration\n",
    "- 📊 Logical expression filtering using truth tables\n",
    "- 🔍 Search trips by city name\n",
    "- 💾 Save sorted trips to `sorted_trips.csv`\n",
    "- ⏱ Compare and visualize sorting performance\n",
    "\n",
    "---\n",
    "\n",
    "## 🧱 Technologies\n",
    "- Python 3\n",
    "- pandas\n",
    "- matplotlib\n",
    "- CSV data format\n",
    "- Console (terminal) interface\n",
    "\n",
    "---\n",
    "\n",
    "## 🧩 Project Structure\n",
    "\n",
    "| Class | Role |\n",
    "|-------|------|\n",
    "| `Trip` | Represents a travel entry |\n",
    "| `User` | Holds user preferences (budget, duration) |\n",
    "| `TruthTableEvaluator` | Evaluates logical expressions (e.g., `p ∧ q`) |\n",
    "| `Planner` | Implements loop-based sorting (Insertion Sort) |\n",
    "| `RecursivePlanner` | Inherits from Planner, uses recursion (Merge Sort) |\n",
    "| `main_menu()` | Console interface for interacting with the system |\n",
    "\n",
    "---\n",
    "\n",
    "## 🧪 Example: Logic Evaluation\n",
    "\n",
    "Each trip contains a logical condition like:\n",
    "\n",
    "\n"
   ]
  },
  {
   "cell_type": "code",
   "execution_count": null,
   "metadata": {
    "vscode": {
     "languageId": "plaintext"
    }
   },
   "outputs": [],
   "source": [
    "p ∧ q"
   ]
  },
  {
   "cell_type": "markdown",
   "metadata": {},
   "source": [
    "\n",
    "Where:\n",
    "- `p` = budget < max_budget\n",
    "- `q` = duration < max_duration\n",
    "\n",
    "Trips are evaluated based on these conditions and sorted accordingly.\n",
    "\n",
    "---\n",
    "\n",
    "## 📁 Input Format\n",
    "\n",
    "CSV input file: `trips.csv`\n",
    "\n"
   ]
  },
  {
   "cell_type": "code",
   "execution_count": null,
   "metadata": {
    "vscode": {
     "languageId": "plaintext"
    }
   },
   "outputs": [],
   "source": [
    "city,budget,duration,activity,logic_expression Paris,1200.0,5,museum,p ∧ q Bangkok,800.0,10,beach,p ∨ ¬q New York,1500.0,7,city tour,p → q Rome,900.0,6,ruins,¬p ∧ q Tokyo,2000.0,4,tech expo,p ↔ q"
   ]
  },
  {
   "cell_type": "markdown",
   "metadata": {},
   "source": [
    "\n",
    "---\n",
    "\n",
    "## 🚀 How to Use\n",
    "\n",
    "1. Place your `trips.csv` in the same directory as the script.\n",
    "2. Run the script using Python.\n",
    "3. Use the interactive menu:\n",
    "\n"
   ]
  },
  {
   "cell_type": "code",
   "execution_count": null,
   "metadata": {
    "vscode": {
     "languageId": "plaintext"
    }
   },
   "outputs": [],
   "source": [
    "1.Sort by budget + logic (loop)\n",
    "2.Sort by duration + logic (recursion)\n",
    "3.Search trip by city name\n",
    "4.Save last sorted trips to CSV\n",
    "5.Compare performance of sorting algorithms\n",
    "6.Exit"
   ]
  },
  {
   "cell_type": "markdown",
   "metadata": {},
   "source": [
    "подготовка к мок экзэм"
   ]
  },
  {
   "cell_type": "code",
   "execution_count": null,
   "metadata": {
    "vscode": {
     "languageId": "plaintext"
    }
   },
   "outputs": [],
   "source": [
    "class Dog:\n",
    "    def __init__(self, name, age):\n",
    "        self.name = name  # свойство name\n",
    "        self.age = age    # свойство age\n",
    "\n",
    "# Создание объекта:\n",
    "my_dog = Dog(\"Rex\", 4)"
   ]
  },
  {
   "cell_type": "markdown",
   "metadata": {},
   "source": [
    "Когда мы пишем Dog(\"Rex\", 4), Python:\n",
    "\n",
    "Создаёт объект my_dog.\n",
    "\n",
    "Вызывает __init__() и передаёт \"Rex\" и 4 как аргументы.\n",
    "\n",
    "Устанавливает my_dog.name = \"Rex\" и my_dog.age = 4.\n",
    "\n",
    "📌 Роль self\n",
    "\n",
    "self — это ссылка на текущий объект.\n",
    "\n",
    "Через self мы можем задавать и использовать свойства конкретного объекта."
   ]
  },
  {
   "cell_type": "markdown",
   "metadata": {},
   "source": [
    "When we write Dog(\"Rex\", 4), Python:\n",
    "\n",
    "\n",
    "Creates an object my_dog.\n",
    "\n",
    "Calls the __init__() method and passes \"Rex\" and 4 as arguments.\n",
    "\n",
    "Sets my_dog.name = \"Rex\" and my_dog.age = 4.\n",
    "\n",
    "\n",
    "📌 The role of self\n",
    "\n",
    "self is a reference to the current object.\n",
    "\n",
    "Through self, we can define and access the properties of that specific object."
   ]
  }
 ],
 "metadata": {
  "language_info": {
   "name": "python"
  }
 },
 "nbformat": 4,
 "nbformat_minor": 2
}
